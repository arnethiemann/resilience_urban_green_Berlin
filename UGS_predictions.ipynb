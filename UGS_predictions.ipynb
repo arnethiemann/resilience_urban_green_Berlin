{
 "cells": [
  {
   "cell_type": "code",
   "execution_count": null,
   "id": "99d792e6-cffe-4bf4-899a-54e75eac9e57",
   "metadata": {
    "scrolled": true
   },
   "outputs": [],
   "source": [
    "import numpy as np\n",
    "from matplotlib import pyplot as plt\n",
    "import pandas as pd\n",
    "import scipy.stats\n",
    "!pip install xgboost\n",
    "import xgboost as xgb\n",
    "from xgboost import XGBRegressor\n",
    "from sklearn.model_selection import TimeSeriesSplit, train_test_split, GridSearchCV\n",
    "from sklearn.metrics import mean_squared_error, mean_absolute_error, r2_score\n",
    "import seaborn as sns"
   ]
  },
  {
   "cell_type": "markdown",
   "id": "354cdb4d-d778-4e8f-9ed6-c22f468f1997",
   "metadata": {},
   "source": [
    "# Data Pre-Processing\n",
    "In this section, we process the input data sets (categories, ERA5 and EVI), filter for relevant details and prepare the input data."
   ]
  },
  {
   "cell_type": "markdown",
   "id": "cc8bd310-9373-483f-a4ff-7af36ef2051c",
   "metadata": {},
   "source": [
    "## Load categories"
   ]
  },
  {
   "cell_type": "code",
   "execution_count": null,
   "id": "04222a75-9f10-4b02-a76e-ca5a19e908a8",
   "metadata": {},
   "outputs": [],
   "source": [
    "categories = pd.read_csv('data/categories.csv')\n",
    "categories['values'].unique()"
   ]
  },
  {
   "cell_type": "markdown",
   "id": "87700d98-df0b-45e1-a16b-c5a82d221f10",
   "metadata": {},
   "source": [
    "## Read urban climate data"
   ]
  },
  {
   "cell_type": "code",
   "execution_count": null,
   "id": "e715272e-490a-41c8-819b-8304b1b84ccb",
   "metadata": {},
   "outputs": [],
   "source": [
    "era_5_berlin = pd.read_csv('data/era5_berlin_wide.csv')"
   ]
  },
  {
   "cell_type": "code",
   "execution_count": null,
   "id": "44e9f15b-9a04-47c5-a374-f2b40290602d",
   "metadata": {},
   "outputs": [],
   "source": [
    "era_5_berlin"
   ]
  },
  {
   "cell_type": "markdown",
   "id": "826a72d8-6f02-4308-9ca0-830809b6b79c",
   "metadata": {},
   "source": [
    "## Process ERA5 data\n",
    "- drop null values, filter for Berlin rasters, aggregate data, drop categorical columns, create date_key as identifier"
   ]
  },
  {
   "cell_type": "code",
   "execution_count": null,
   "id": "e9626e4b-d2c1-48a9-894f-3e3a0cb67783",
   "metadata": {},
   "outputs": [],
   "source": [
    "# code generation supported by ChatGPT\n",
    "era_5_berlin = era_5_berlin.dropna()\n",
    "\n",
    "filtered_era5 = era_5_berlin[era_5_berlin['cell'].isin([6, 7])]\n",
    "\n",
    "era_5_berlin = filtered_era5.groupby('time').mean(numeric_only=True)\n",
    "era_5_berlin.drop(columns=[\"SFC=Ground or water surface; Precipitation type [0=Reserved; 1=Rain; 2=Thunderstorm; 3=Freezing rain; 4=Mixed/ice; 5=Snow; 6=Wet snow; 7=Mixture of rain and snow; 8=Ice pellets; 9=Graupel; 10=Hail; 11=Drizzle; 12=Freezing drizzle; 13-191=Reserved; 192-254=Reserved for local use; 255=Missing]\"], inplace=True)\n",
    "#era_5_berlin.drop(columns=[\"SFC (Ground or water surface); undefined [-]\"], inplace=True)\n",
    "era_5_berlin.index = pd.to_datetime(era_5_berlin.index)\n",
    "era_5_berlin['date_key'] = era_5_berlin.index.strftime('%Y_%m')\n",
    "print(era_5_berlin.head())"
   ]
  },
  {
   "cell_type": "markdown",
   "id": "2c2f58f6-4d8f-462c-8ead-84cda2115870",
   "metadata": {},
   "source": [
    "## Rename variable names to improve readability"
   ]
  },
  {
   "cell_type": "code",
   "execution_count": null,
   "id": "34e05153-cb02-4124-9ae4-92a53f5b5d7a",
   "metadata": {},
   "outputs": [],
   "source": [
    "era_5_berlin.columns\n",
    "era_5_berlin.rename(columns={'SFC (Ground or water surface); 2 metre temperature [C]': '2 metre temperature'}, inplace=True)\n",
    "era_5_berlin.rename(columns={'SFC (Ground or water surface); 10m. Windspeed (irresp of dir.) [m/s]': '10m. Windspeed'}, inplace=True)\n",
    "era_5_berlin.rename(columns={'SFC (Ground or water surface); Total cloud cover (0 - 1) [-]': 'Total cloud cover'}, inplace=True)\n",
    "era_5_berlin.rename(columns={'SFC (Ground or water surface); Snow depth (water equivalent) [m]': 'Snow depth'}, inplace=True)\n",
    "era_5_berlin.rename(columns={'SFC (Ground or water surface); Total column ozone Dobson [kg/m^2]': 'Ozone Dobson'}, inplace=True)\n",
    "era_5_berlin.rename(columns={'SFC (Ground or water surface); Total column water [kg/m^2]': 'Water [kg/m^2]'}, inplace=True)\n",
    "era_5_berlin.rename(columns={'0-7[cm] DBLY (layer between 2 depths below land surface); Surf.temp/soil temp lev 1 (from 930804) [C]': 'Surf.temp lev 1'}, inplace=True)\n",
    "era_5_berlin.rename(columns={'7-28[cm] DBLY (layer between 2 depths below land surface); Deep soil tmp/soil temp lev2(from 930804) [C]': 'Deep soil temp lev2'}, inplace=True)\n",
    "era_5_berlin.rename(columns={'28-100[cm] DBLY (layer between 2 depths below land surface); Clim deep soil tmp/soil tmp lev3(930804) [C]': 'Deep soil tmp lev3'}, inplace=True)\n",
    "era_5_berlin.rename(columns={'100-255[cm] DBLY (layer between 2 depths below land surface); Soil temperature level 4 [C]': 'Deep soil temperature level 4'}, inplace=True)\n",
    "\n",
    "era_5_berlin.rename(columns={'0-7[cm] DBLY (layer between 2 depths below land surface); Volumetric soil water layer 1 [m^3/m^3]': 'Volumetric soil water layer 1'}, inplace=True)\n",
    "era_5_berlin.rename(columns={'7-28[cm] DBLY (layer between 2 depths below land surface); Volumetric soil water layer 2 [m^3/m^3]': 'Volumetric soil water layer 2'}, inplace=True)\n",
    "era_5_berlin.rename(columns={'28-100[cm] DBLY (layer between 2 depths below land surface); Volumetric soil water layer 3 [m^3/m^3]': 'Volumetric soil water layer 3'}, inplace=True)\n",
    "era_5_berlin.rename(columns={'100-255[cm] DBLY (layer between 2 depths below land surface); Volumetric soil water layer 4 [m^3/m^3]': 'Volumetric soil water layer 4'}, inplace=True)\n",
    "\n",
    "era_5_berlin.rename(columns={'SFC (Ground or water surface); Total precipitation [m]': 'Total precipitation'}, inplace=True)\n",
    "era_5_berlin.rename(columns={'SFC (Ground or water surface); 2 metre temperature [C]': '2 metre temperature'}, inplace=True)\n",
    "era_5_berlin.rename(columns={'SFC (Ground or water surface); Instantaneous 10 metre wind gust [m/s]': 'Instantaneous 10 metre wind gust'}, inplace=True)\n",
    "era_5_berlin.rename(columns={'SFC (Ground or water surface); Evaporation (of water) [m]': 'Evaporation (of water)'}, inplace=True)\n",
    "era_5_berlin.rename(columns={'SFC (Ground or water surface); Runoff [m]': 'Runoff'}, inplace=True)\n",
    "era_5_berlin.rename(columns={'SFC (Ground or water surface); Snow fall (of water equivalent) [m]': 'Snow fall (of water equivalent)'}, inplace=True)\n",
    "era_5_berlin.rename(columns={'SFC (Ground or water surface); Snowmelt [m of water equivalent]': 'Snowmelt'}, inplace=True)\n",
    "era_5_berlin.rename(columns={'SFC (Ground or water surface); undefined [-]': 'Potential Evaporation'}, inplace=True)\n",
    "\n",
    "\n",
    "era_5_berlin"
   ]
  },
  {
   "cell_type": "markdown",
   "id": "c2242fbb-5daa-4986-9592-4b947f4668e8",
   "metadata": {},
   "source": [
    "## Load EVI Data"
   ]
  },
  {
   "cell_type": "code",
   "execution_count": null,
   "id": "fb7f45be-b9c6-442c-8302-9adb7b3d90da",
   "metadata": {},
   "outputs": [],
   "source": [
    "evi_aoi = pd.read_csv('data/EVI_AOI.csv')"
   ]
  },
  {
   "cell_type": "code",
   "execution_count": null,
   "id": "4ed28df8-84c1-4530-9a7a-27ad6d3674fc",
   "metadata": {},
   "outputs": [],
   "source": [
    "evi_aoi"
   ]
  },
  {
   "cell_type": "markdown",
   "id": "9be4070e-53c7-4af7-a4b9-c3a00aab4b84",
   "metadata": {},
   "source": [
    "Drop null values, detect and delete outliers"
   ]
  },
  {
   "cell_type": "code",
   "execution_count": null,
   "id": "c99aa595-9da9-4cba-bbfe-d7f80c0ec0a3",
   "metadata": {},
   "outputs": [],
   "source": [
    "evi_aoi = evi_aoi.dropna(subset=['values'])"
   ]
  },
  {
   "cell_type": "code",
   "execution_count": null,
   "id": "f0423a0f-e7ff-47c0-95dd-cdeb6396858b",
   "metadata": {},
   "outputs": [],
   "source": [
    "evi_min = evi_aoi.min()\n",
    "evi_max = evi_aoi.max()\n",
    "print(\"Min:\", evi_min)\n",
    "print(\"Max:\", evi_max)"
   ]
  },
  {
   "cell_type": "markdown",
   "id": "d9f55283-d511-4969-8cfe-dda133ff0aa7",
   "metadata": {},
   "source": [
    "Remove outliers"
   ]
  },
  {
   "cell_type": "code",
   "execution_count": null,
   "id": "698e04e8-6bc3-4d8e-a5b2-a803f8ca45d3",
   "metadata": {},
   "outputs": [],
   "source": [
    "lower_bound = evi_aoi['values'].quantile(0.05)\n",
    "upper_bound = evi_aoi['values'].quantile(0.95)\n",
    "\n",
    "evi_aoi = evi_aoi[(evi_aoi['values'] >= lower_bound) & (evi_aoi['values'] <= upper_bound)]\n",
    "\n",
    "print(f\"Lower Bound (5th Percentile): {lower_bound}\")\n",
    "print(f\"Upper Bound (95th Percentile): {upper_bound}\")"
   ]
  },
  {
   "cell_type": "markdown",
   "id": "781bcefc-7162-44a3-bfe0-8e4a4efb919b",
   "metadata": {},
   "source": [
    "# Merge Datasets and prepare for Training"
   ]
  },
  {
   "cell_type": "markdown",
   "id": "8d1539ee-33ee-4015-910f-071230082cd2",
   "metadata": {},
   "source": [
    "## Merge categories and EVI dataframe, filter for desired EVI dataset"
   ]
  },
  {
   "cell_type": "code",
   "execution_count": null,
   "id": "6a416dca-3993-4912-afd2-6e127e3e2d6d",
   "metadata": {},
   "outputs": [],
   "source": [
    "def choose_cat_and_merge(df_evi, df_cat, cat):\n",
    "    df_cat = df_cat[df_cat['values'] == cat]\n",
    "    df_evi = pd.merge(df_evi, df_cat, on='cell', how='inner')\n",
    "    return df_evi"
   ]
  },
  {
   "cell_type": "markdown",
   "id": "3f078cb8-833c-449a-bdaf-53401f92f354",
   "metadata": {},
   "source": [
    "## Merge ERA and EVI data"
   ]
  },
  {
   "cell_type": "code",
   "execution_count": null,
   "id": "ae6991f4-0299-46e9-8b1e-d59694c31d4f",
   "metadata": {},
   "outputs": [],
   "source": [
    "def merge_with_era5(df_era5, df_evi): \n",
    "    df_evi['date_key'] = df_evi['layer_x'].str.extract(r'(\\d{4}_\\d{2})')\n",
    "    df_evi['year'] = df_evi['layer_x'].str.extract(r'EVI_(\\d{4})').astype(int)\n",
    "    df_evi = df_evi[df_evi['year'] <= 2021]\n",
    "    evi_aoi_grouped = df_evi.groupby('date_key', as_index=False)['values_x'].mean()\n",
    "    df = pd.merge(df_era5, evi_aoi_grouped, on='date_key', how='inner')\n",
    "    return df\n"
   ]
  },
  {
   "cell_type": "code",
   "execution_count": null,
   "id": "f54a3765-48f0-47e4-ad17-530045adcb49",
   "metadata": {},
   "outputs": [],
   "source": [
    "# Code debugged by ChatGPT\n",
    "def select_columns(df1, correlation_threshold=0.9):\n",
    "    corr_matrix = df1.corr().abs()\n",
    "    upper_triangle = corr_matrix.where(np.triu(np.ones(corr_matrix.shape), k=1).astype(bool))\n",
    "    to_drop = [column for column in upper_triangle.columns if any(upper_triangle[column] > correlation_threshold)]\n",
    "    df_cleaned = df1.drop(columns=to_drop)    \n",
    "    print(f\"Removed columns due to high collinearity: {to_drop}\")\n",
    "    return df_cleaned\n",
    "\n"
   ]
  },
  {
   "cell_type": "code",
   "execution_count": null,
   "id": "9970522d-7155-4730-98ff-9d87137633e7",
   "metadata": {},
   "outputs": [],
   "source": [
    "# Code debugged by ChatGPT\n",
    "def train_xgb(df):\n",
    "    df.columns = df.columns.str.replace(r'[^\\w\\s]', '', regex=True)\n",
    "    X = df.iloc[:, :-1]  # Select all columns except the last one (features)\n",
    "    y = df.iloc[:, -1]   # Select only the last column (target)\n",
    "    split_index = int(0.9 * len(df))\n",
    "    X_train, X_test = X.iloc[:split_index], X.iloc[split_index:]\n",
    "    y_train, y_test = y.iloc[:split_index], y.iloc[split_index:]\n",
    "    xgb_model = XGBRegressor(objective='reg:squarederror', random_state=42)\n",
    "    tscv = TimeSeriesSplit(n_splits=5)\n",
    "    param_grid = {\n",
    "        'n_estimators': [100, 200, 500],\n",
    "        'max_depth': [3, 5, 7],\n",
    "        'learning_rate': [0.01, 0.05, 0.1],\n",
    "        'subsample': [0.7, 0.8, 1.0]\n",
    "    }\n",
    "    \n",
    "    grid_search = GridSearchCV(estimator=xgb_model, param_grid=param_grid, \n",
    "                               cv=tscv, scoring='neg_mean_squared_error', verbose=1, n_jobs=-1)\n",
    "    grid_search.fit(X_train, y_train)\n",
    "    best_params = grid_search.best_params_\n",
    "    print(\"Best Hyperparameters:\", best_params)\n",
    "    best_model = XGBRegressor(objective='reg:squarederror', **best_params, random_state=42)\n",
    "    best_model.fit(X_train, y_train)\n",
    "    \n",
    "    y_pred = best_model.predict(X_test)\n",
    "    \n",
    "    mse = mean_squared_error(y_test, y_pred)\n",
    "    rmse = np.sqrt(mse)\n",
    "    mae = mean_absolute_error(y_test, y_pred)\n",
    "    r2 = r2_score(y_test, y_pred)\n",
    "\n",
    "    print(f\"Mean Squared Error (MSE): {mse:.4f}\")\n",
    "    print(f\"Root Mean Squared Error (RMSE): {rmse:.4f}\")\n",
    "    print(f\"Mean Absolute Error (MAE): {mae:.4f}\")\n",
    "    print(f\"R² Score: {r2:.4f}\")\n",
    "\n",
    "    plt.figure(figsize=(10, 6))\n",
    "    xgb.plot_importance(best_model, importance_type='weight', title='Feature Importance', height=0.8)\n",
    "    plt.show()\n",
    "\n",
    "    plt.figure(figsize=(12, 6))\n",
    "    plt.plot(y_test.index, y_test, label=\"Actual\", color='blue')\n",
    "    plt.plot(y_test.index, y_pred, label=\"Predicted\", color='red', linestyle='dashed')\n",
    "    plt.xlabel(\"Time\")\n",
    "    plt.ylabel(\"Target Value\")\n",
    "    plt.title(\"Actual vs. Predicted Values\")\n",
    "    plt.legend()\n",
    "    plt.show()\n",
    "\n",
    "    plt.figure(figsize=(12, 8))\n",
    "    sns.heatmap(X.corr(), annot=True, cmap=\"coolwarm\", center=0)\n",
    "    plt.title(\"Feature Correlation Heatmap\")\n",
    "    plt.show()\n",
    "\n",
    "    return best_model\n"
   ]
  },
  {
   "cell_type": "code",
   "execution_count": null,
   "id": "56956812-612d-4c32-af37-fa72a9405ef6",
   "metadata": {},
   "outputs": [],
   "source": [
    "#columns that appear in the areas of interest\n",
    "df_evi = pd.merge(evi_aoi, categories, on='cell', how='inner')\n",
    "df_evi['values_y'].unique()"
   ]
  },
  {
   "cell_type": "code",
   "execution_count": null,
   "id": "08dece31-cbf1-4063-ac3d-6946e40ccf14",
   "metadata": {},
   "outputs": [],
   "source": [
    "# Model Training"
   ]
  },
  {
   "cell_type": "code",
   "execution_count": null,
   "id": "c3cd6939-b10e-4c0d-9ea2-f2ab3bd8e1e4",
   "metadata": {},
   "outputs": [],
   "source": [
    "# Model allotment gardens\n",
    "evi_aoi_allotments = choose_cat_and_merge(evi_aoi, categories, 'AX41008_AX_SportFreizeitUndErholungsflaeche__Kleingarten')\n",
    "results_allotments = merge_with_era5(era_5_berlin,evi_aoi_allotments)\n",
    "results_allotments = results_allotments.drop(columns=['cell','x','y','date_key','cell_x', 'x_x', 'y_x', 'time', 'cell_y', 'x_y', 'y_y', 'layer_x', 'layer_y'], errors='ignore')\n",
    "results_allotments = select_columns(results_allotments)\n",
    "model_allotments = train_xgb(results_allotments)"
   ]
  },
  {
   "cell_type": "code",
   "execution_count": null,
   "id": "f9c4e9eb-7911-41f8-baee-dfb748c486ef",
   "metadata": {},
   "outputs": [],
   "source": [
    "# Model semi-natural areas\n",
    "evi_aoi_vegetationslos = choose_cat_and_merge(evi_aoi, categories, 'AX43007_AX_UnlandVegetationsloseFlaeche__Naturnahe Fläche')\n",
    "results_vegetationslos = merge_with_era5(era_5_berlin,evi_aoi_vegetationslos)\n",
    "results_vegetationslos = results_vegetationslos.drop(columns=['cell','x','y','date_key','cell_x', 'x_x', 'y_x', 'time', 'cell_y', 'x_y', 'y_y', 'layer_x', 'layer_y'], errors='ignore')\n",
    "results_vegetationslos = select_columns(results_vegetationslos)\n",
    "model_vegetationslos = train_xgb(results_vegetationslos)"
   ]
  },
  {
   "cell_type": "code",
   "execution_count": null,
   "id": "7d193dba-30b2-4c28-a2d4-e56084be9bb6",
   "metadata": {},
   "outputs": [],
   "source": [
    "# Model Forest\n",
    "evi_aoi_forest = choose_cat_and_merge(evi_aoi, categories, 'AX43002_AX_Wald_Laubholz_')\n",
    "results_forest = merge_with_era5(era_5_berlin,evi_aoi_forest)\n",
    "results_forest = results_forest.drop(columns=['cell','x','y','date_key','cell_x', 'x_x', 'y_x', 'time', 'cell_y', 'x_y', 'y_y', 'layer_x', 'layer_y'], errors='ignore')\n",
    "results_forest = select_columns(results_forest)\n",
    "model_forest = train_xgb(results_forest)"
   ]
  },
  {
   "cell_type": "code",
   "execution_count": null,
   "id": "955ec94f-6649-4b8f-b5cf-584d25f94ffe",
   "metadata": {
    "scrolled": true
   },
   "outputs": [],
   "source": [
    "# Model Park\n",
    "evi_aoi_sport_freizeit = choose_cat_and_merge(evi_aoi, categories, 'AX41008_AX_SportFreizeitUndErholungsflaeche__Park')\n",
    "results_sport_freizeit = merge_with_era5(era_5_berlin,evi_aoi_sport_freizeit)\n",
    "\n",
    "results_sport_freizeit = results_sport_freizeit.drop(columns=['cell','x','y','date_key','cell_x', 'x_x', 'y_x', 'time', 'cell_y', 'x_y', 'y_y', 'layer_x', 'layer_y'], errors='ignore')\n",
    "results_sport_freizeit = select_columns(results_sport_freizeit)\n",
    "model_sport_freizeit = train_xgb(results_sport_freizeit)"
   ]
  },
  {
   "cell_type": "code",
   "execution_count": null,
   "id": "b9f34986-9a5d-4f45-8cbb-34553afa982b",
   "metadata": {},
   "outputs": [],
   "source": [
    "# Model Woods\n",
    "evi_aoi_gehoelz = choose_cat_and_merge(evi_aoi, categories, 'AX54001_AX_Vegetationsmerkmal__Gehölz__')\n",
    "results_gehoelz = merge_with_era5(era_5_berlin,evi_aoi_gehoelz)\n",
    "results_gehoelz = results_gehoelz.drop(columns=['cell','x','y','date_key','cell_x', 'x_x', 'y_x', 'time', 'cell_y', 'x_y', 'y_y', 'layer_x', 'layer_y'], errors='ignore')\n",
    "results_gehoelz = select_columns(results_gehoelz)\n",
    "model_holz = train_xgb(results_gehoelz)"
   ]
  },
  {
   "cell_type": "code",
   "execution_count": null,
   "id": "6fcfea04-0a9e-4fdf-83f7-d0162d8023c2",
   "metadata": {},
   "outputs": [],
   "source": [
    "# Model Parks\n",
    "evi_aoi_gruenanlage = choose_cat_and_merge(evi_aoi, categories, 'Grünanlage')\n",
    "results_gruenanlage = merge_with_era5(era_5_berlin,evi_aoi_gruenanlage)\n",
    "results_gruenanlage = results_gruenanlage.drop(columns=['cell','x','y','date_key','cell_x', 'x_x', 'y_x', 'time', 'cell_y', 'x_y', 'y_y', 'layer_x', 'layer_y'], errors='ignore')\n",
    "results_gruenanlage = select_columns(results_gruenanlage)\n",
    "model_gruenanlage = train_xgb(results_gruenanlage)"
   ]
  },
  {
   "cell_type": "code",
   "execution_count": null,
   "id": "ab91f82a-0fef-4bd1-a21e-48e9e2ec2be9",
   "metadata": {},
   "outputs": [],
   "source": [
    "# Model Playgrounds\n",
    "evi_aoi_spielplatz = choose_cat_and_merge(evi_aoi, categories, 'Spielplatz')\n",
    "results_spielplatz = merge_with_era5(era_5_berlin,evi_aoi_spielplatz)\n",
    "results_spielplatz = results_spielplatz.drop(columns=['cell','x','y','date_key','cell_x', 'x_x', 'y_x', 'time', 'cell_y', 'x_y', 'y_y', 'layer_x', 'layer_y'], errors='ignore')\n",
    "results_spielplatz = select_columns(results_spielplatz)\n",
    "model__spielplatz = train_xgb(results_spielplatz)"
   ]
  },
  {
   "cell_type": "code",
   "execution_count": null,
   "id": "7069fd29-75e2-411e-81f0-c182200503b3",
   "metadata": {},
   "outputs": [],
   "source": [
    "# Model Game Reserve\n",
    "evi_aoi_wildgehege = choose_cat_and_merge(evi_aoi, categories, 'AX51006_AX_BauwerkOderAnlageFuerSportFreizeitUndErholung_Wildgehege___')\n",
    "results_wildgehege = merge_with_era5(era_5_berlin,evi_aoi_wildgehege)\n",
    "results_wildgehege = results_wildgehege.drop(columns=['cell','x','y','date_key','cell_x', 'x_x', 'y_x', 'time', 'cell_y', 'x_y', 'y_y', 'layer_x', 'layer_y'], errors='ignore')\n",
    "results_wildgehege = select_columns(results_wildgehege)\n",
    "model_wildgehege = train_xgb(results_wildgehege)"
   ]
  }
 ],
 "metadata": {
  "kernelspec": {
   "display_name": "Python 3 (ipykernel)",
   "language": "python",
   "name": "python3"
  },
  "language_info": {
   "codemirror_mode": {
    "name": "ipython",
    "version": 3
   },
   "file_extension": ".py",
   "mimetype": "text/x-python",
   "name": "python",
   "nbconvert_exporter": "python",
   "pygments_lexer": "ipython3",
   "version": "3.10.12"
  }
 },
 "nbformat": 4,
 "nbformat_minor": 5
}
